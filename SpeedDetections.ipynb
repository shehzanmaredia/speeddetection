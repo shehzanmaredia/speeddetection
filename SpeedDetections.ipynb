{
  "nbformat": 4,
  "nbformat_minor": 0,
  "metadata": {
    "colab": {
      "name": "SpeedDetections.ipynb",
      "provenance": [],
      "collapsed_sections": [],
      "include_colab_link": true
    },
    "kernelspec": {
      "name": "python3",
      "display_name": "Python 3"
    },
    "accelerator": "GPU"
  },
  "cells": [
    {
      "cell_type": "markdown",
      "metadata": {
        "id": "view-in-github",
        "colab_type": "text"
      },
      "source": [
        "<a href=\"https://colab.research.google.com/github/shehzanmaredia/speeddetection/blob/master/SpeedDetections.ipynb\" target=\"_parent\"><img src=\"https://colab.research.google.com/assets/colab-badge.svg\" alt=\"Open In Colab\"/></a>"
      ]
    },
    {
      "cell_type": "code",
      "metadata": {
        "id": "d_FWxIyvjXiS",
        "colab_type": "code",
        "colab": {}
      },
      "source": [
        "#importing access to drive\n",
        "from google.colab import drive\n",
        "drive.mount('/content/drive')"
      ],
      "execution_count": null,
      "outputs": []
    },
    {
      "cell_type": "code",
      "metadata": {
        "id": "poDkcPkmjis2",
        "colab_type": "code",
        "colab": {}
      },
      "source": [
        "import os\n",
        "#importing folder\n",
        "os.chdir('/content/drive/My Drive/Speed Detection')\n",
        "!ls"
      ],
      "execution_count": null,
      "outputs": []
    },
    {
      "cell_type": "code",
      "metadata": {
        "id": "LfiDcJrijrfk",
        "colab_type": "code",
        "colab": {}
      },
      "source": [
        "import numpy as np\n",
        "import tensorflow as tf\n",
        "import cv2\n",
        "import os\n",
        "import matplotlib.pyplot as plt\n",
        "import matplotlib.image as mpimg\n",
        "import matplotlib.gridspec as gridspec\n",
        "from sklearn.utils import shuffle\n",
        "from tqdm import tqdm\n",
        "\n",
        "import pandas as pd\n",
        "from sklearn.model_selection import train_test_split\n",
        "\n",
        "import h5py\n",
        "\n",
        "from tensorflow.keras.models import Sequential\n",
        "from tensorflow.keras.layers import Convolution2D\n",
        "from tensorflow.keras.layers import MaxPooling2D\n",
        "from tensorflow.keras.layers import Activation, Dropout, Flatten, Dense, Lambda\n",
        "from tensorflow.keras.layers import ELU\n",
        "from tensorflow.keras.optimizers import Adam\n",
        "from tensorflow.keras.callbacks import EarlyStopping, ModelCheckpoint\n",
        "\n"
      ],
      "execution_count": null,
      "outputs": []
    },
    {
      "cell_type": "code",
      "metadata": {
        "id": "rZfbOoEplLe8",
        "colab_type": "code",
        "colab": {}
      },
      "source": [
        "!pip install tensorflow"
      ],
      "execution_count": null,
      "outputs": []
    },
    {
      "cell_type": "code",
      "metadata": {
        "id": "rxgJUV_1lr-W",
        "colab_type": "code",
        "colab": {}
      },
      "source": [
        "!pip install --upgrade tensorflow"
      ],
      "execution_count": null,
      "outputs": []
    },
    {
      "cell_type": "code",
      "metadata": {
        "id": "QsfO7jnM3uFJ",
        "colab_type": "code",
        "colab": {
          "base_uri": "https://localhost:8080/",
          "height": 34
        },
        "outputId": "e8bd8e7d-440d-4f2a-fda0-e72302357128"
      },
      "source": [
        "print(\"num gpu:\", len(tf.config.experimental.list_physical_devices('GPU')))"
      ],
      "execution_count": null,
      "outputs": [
        {
          "output_type": "stream",
          "text": [
            "num gpu: 1\n"
          ],
          "name": "stdout"
        }
      ]
    },
    {
      "cell_type": "code",
      "metadata": {
        "id": "Jacmabez6Kga",
        "colab_type": "code",
        "colab": {}
      },
      "source": [
        "seeds = [1, 2]"
      ],
      "execution_count": null,
      "outputs": []
    },
    {
      "cell_type": "code",
      "metadata": {
        "id": "uWl6DZpYnB0y",
        "colab_type": "code",
        "colab": {}
      },
      "source": [
        "train_meta = pd.read_csv(\"train.csv\")"
      ],
      "execution_count": null,
      "outputs": []
    },
    {
      "cell_type": "code",
      "metadata": {
        "id": "plbU1Pnx_2mQ",
        "colab_type": "code",
        "colab": {
          "base_uri": "https://localhost:8080/",
          "height": 68
        },
        "outputId": "b44056aa-b22f-4bd3-e195-a98b58f2cccf"
      },
      "source": [
        "train_meta.loc[0, :]"
      ],
      "execution_count": null,
      "outputs": [
        {
          "output_type": "execute_result",
          "data": {
            "text/plain": [
              "index     0.000000\n",
              "speed    28.105569\n",
              "Name: 0, dtype: float64"
            ]
          },
          "metadata": {
            "tags": []
          },
          "execution_count": 9
        }
      ]
    },
    {
      "cell_type": "code",
      "metadata": {
        "colab_type": "code",
        "id": "dO-yz0zawZTU",
        "colab": {}
      },
      "source": [
        "def train_validation_split(df_len, seed):\n",
        "    # train_split = pd.DataFrame()\n",
        "    # valid_split = pd.DataFrame()\n",
        "\n",
        "    train_split = []\n",
        "    valid_split = []\n",
        "\n",
        "    np.random.seed(seed)\n",
        "\n",
        "    for i in tqdm(range(df_len - 1)):\n",
        "        \n",
        "        if np.random.uniform(0, 1) > 0.2:\n",
        "            train_split.append(i)\n",
        "        else:\n",
        "            valid_split.append(i)\n",
        "        \n",
        "    return train_split, valid_split\n",
        "\n"
      ],
      "execution_count": null,
      "outputs": []
    },
    {
      "cell_type": "code",
      "metadata": {
        "id": "HfBzmIhNwZ-E",
        "colab_type": "code",
        "colab": {
          "base_uri": "https://localhost:8080/",
          "height": 34
        },
        "outputId": "0d28bcfc-00ef-480d-87ab-d60f327fe06d"
      },
      "source": [
        "train_split, valid_split = train_validation_split(len(train_meta), seeds[0])"
      ],
      "execution_count": null,
      "outputs": [
        {
          "output_type": "stream",
          "text": [
            "100%|██████████| 20399/20399 [00:00<00:00, 237607.49it/s]\n"
          ],
          "name": "stderr"
        }
      ]
    },
    {
      "cell_type": "code",
      "metadata": {
        "id": "gVEU_98KBl8v",
        "colab_type": "code",
        "colab": {}
      },
      "source": [
        "img0 = cv2.imread(\"clean_test_frames/F0.jpeg\", 1)\n",
        "img1 = cv2.imread(\"clean_test_frames/F1.jpeg\", 1)"
      ],
      "execution_count": null,
      "outputs": []
    },
    {
      "cell_type": "code",
      "metadata": {
        "id": "KSbF0L1dKfXv",
        "colab_type": "code",
        "colab": {}
      },
      "source": [
        "def opticalFlow(frame1, frame2):\n",
        "    prvs = cv2.cvtColor(frame1, cv2.COLOR_BGR2GRAY)\n",
        "    hsv = np.zeros_like(frame1)\n",
        "    hsv[..., 1] = 255\n",
        "    next = cv2.cvtColor(frame2, cv2.COLOR_BGR2GRAY)\n",
        "\n",
        "    # try to understand optical flow and these parameters\n",
        "    flow_mat = None\n",
        "    image_scale = 0.5\n",
        "    nb_images = 1\n",
        "    win_size = 15\n",
        "    nb_iterations = 2\n",
        "    deg_expansion = 5\n",
        "    STD = 1.3\n",
        "    extra = 0\n",
        "\n",
        "    flow = cv2.calcOpticalFlowFarneback(prvs,\n",
        "                                        next,  \n",
        "                                        flow_mat, \n",
        "                                        image_scale, \n",
        "                                        nb_images, \n",
        "                                        win_size, \n",
        "                                        nb_iterations, \n",
        "                                        deg_expansion, \n",
        "                                        STD, \n",
        "                                        0)\n",
        "    \n",
        "    mag, ang = cv2.cartToPolar(flow[..., 0], flow[..., 1])\n",
        "\n",
        "    hsv[..., 0] = ang * 180 / np.pi / 2\n",
        "    hsv[..., 2] = cv2.normalize(mag, None, 0, 255, cv2.NORM_MINMAX)\n",
        "\n",
        "    bgr = cv2.cvtColor(hsv, cv2.COLOR_HSV2BGR)\n",
        "\n",
        "    return bgr"
      ],
      "execution_count": null,
      "outputs": []
    },
    {
      "cell_type": "code",
      "metadata": {
        "id": "jHTvJgcAf0Nw",
        "colab_type": "code",
        "colab": {}
      },
      "source": [
        "out = opticalFlow(img0, img1)"
      ],
      "execution_count": null,
      "outputs": []
    },
    {
      "cell_type": "code",
      "metadata": {
        "id": "UCYJebAne6pN",
        "colab_type": "code",
        "colab": {
          "base_uri": "https://localhost:8080/",
          "height": 286
        },
        "outputId": "02eab421-c12b-4a2d-fb92-9798f15ec077"
      },
      "source": [
        "plt.imshow(cv2.cvtColor(out, cv2.COLOR_BGR2RGB))"
      ],
      "execution_count": null,
      "outputs": [
        {
          "output_type": "execute_result",
          "data": {
            "text/plain": [
              "<matplotlib.image.AxesImage at 0x7f6f75ec6a58>"
            ]
          },
          "metadata": {
            "tags": []
          },
          "execution_count": 15
        },
        {
          "output_type": "display_data",
          "data": {
            "image/png": "[encoded data removed]",
            "text/plain": [
              "<Figure size 432x288 with 1 Axes>"
            ]
          },
          "metadata": {
            "tags": []
          }
        }
      ]
    },
    {
      "cell_type": "code",
      "metadata": {
        "id": "rivurC6yKjWN",
        "colab_type": "code",
        "colab": {}
      },
      "source": [
        "def horizontal_flip(image): \n",
        "    return np.fliplr(image)\n",
        "\n",
        "def adjust_saturation(image, saturation_factor):    \n",
        "    hsv_image = cv2.cvtColor(image, cv2.COLOR_BGR2HSV)\n",
        "\n",
        "    hsv_image[:,:,1] = hsv_image[:,:,1] * saturation_factor\n",
        "    \n",
        "    image_bgr = cv2.cvtColor(hsv_image, cv2.COLOR_HSV2BGR)\n",
        "    return image_bgr"
      ],
      "execution_count": null,
      "outputs": []
    },
    {
      "cell_type": "code",
      "metadata": {
        "id": "1QVcI3BHiX1N",
        "colab_type": "code",
        "colab": {}
      },
      "source": [
        "def blur_image(image):\n",
        "    return cv2.GaussianBlur(image, (5,5), 0)\n",
        "\n",
        "def edge_detection(image):\n",
        "    gray = cv2.cvtColor(image, cv2.COLOR_RGR2GRAY)\n",
        "    return cv2.Canny(gray, 100, 200)\n",
        "\n",
        "def adjust_brightness(image, bright_factor):\n",
        "    # np.random.seed(seeds[1])\n",
        "    \n",
        "    hsv_image = cv2.cvtColor(image, cv2.COLOR_BGR2HSV)\n",
        "\n",
        "    hsv_image[:,:,2] = hsv_image[:,:,2] * bright_factor\n",
        "    \n",
        "    image_rgb = cv2.cvtColor(hsv_image, cv2.COLOR_HSV2BGR)\n",
        "    return image_rgb\n",
        "\n",
        "    return image\n",
        "\n",
        "def preprocess_image(image):\n",
        "    image_cropped = image[100:440, :]\n",
        "    \n",
        "    image = cv2.resize(image_cropped, (220, 66), interpolation = cv2.INTER_AREA)\n",
        "    \n",
        "    return image\n",
        "\n",
        "def preprocess_image_from_path(image_path):\n",
        "    img = cv2.imread(image_path)\n",
        "    img = cv2.cvtColor(img, cv2.COLOR_BGR2RGB)\n",
        "    img = preprocess_image(img)\n",
        "    return img"
      ],
      "execution_count": null,
      "outputs": []
    },
    {
      "cell_type": "code",
      "metadata": {
        "id": "aV1XpYB0k12g",
        "colab_type": "code",
        "colab": {
          "base_uri": "https://localhost:8080/",
          "height": 169
        },
        "outputId": "6107dad7-1b2e-44d9-ecc9-7abfb9fac489"
      },
      "source": [
        "out2 = preprocess_image(out)\n",
        "plt.imshow(cv2.cvtColor(out2, cv2.COLOR_BGR2RGB))"
      ],
      "execution_count": null,
      "outputs": [
        {
          "output_type": "execute_result",
          "data": {
            "text/plain": [
              "<matplotlib.image.AxesImage at 0x7f6f7599b7f0>"
            ]
          },
          "metadata": {
            "tags": []
          },
          "execution_count": 18
        },
        {
          "output_type": "display_data",
          "data": {
            "image/png": "[encoded data removed]",
            "text/plain": [
              "<Figure size 432x288 with 1 Axes>"
            ]
          },
          "metadata": {
            "tags": []
          }
        }
      ]
    },
    {
      "cell_type": "code",
      "metadata": {
        "id": "guBwwdsMnZWG",
        "colab_type": "code",
        "colab": {}
      },
      "source": [
        "def generate_training_data(train_split, train_meta, batch_size = 30):\n",
        "    image_batch = np.zeros((batch_size, 66, 220, 3))\n",
        "    label_batch = np.zeros((batch_size))\n",
        "\n",
        "    while True:\n",
        "        for i in range(batch_size):\n",
        "\n",
        "            idx = np.random.randint(0, len(train_split))\n",
        "\n",
        "            index1 = train_split[idx]\n",
        "            index2 = index1 + 1\n",
        "\n",
        "            # this is where preprocessing features can be added\n",
        "\n",
        "            \n",
        "            img1 = preprocess_image_from_path(f\"clean_train_frames/F{index1}.jpeg\")\n",
        "            img2 = preprocess_image_from_path(f\"clean_train_frames/F{index2}.jpeg\")\n",
        "\n",
        "            bright_factor = 0.2 * np.random.uniform()\n",
        "\n",
        "            img1 = blur_image(adjust_brightness(img1, bright_factor))\n",
        "            img2 = blur_image(adjust_brightness(img2, bright_factor))\n",
        "\n",
        "            if np.random.uniform() < 0.5:\n",
        "                img1 = horizontal_flip(img1)\n",
        "                img2 = horizontal_flip(img2)\n",
        "\n",
        "            flow = opticalFlow(img1, img2)\n",
        "\n",
        "            image_batch[i] = flow\n",
        "            label_batch[i] = (train_meta.iloc[index1][\"speed\"] + train_meta.iloc[index2][\"speed\"]) / 2\n",
        "\n",
        "        yield image_batch, label_batch\n",
        "\n",
        "def generate_validation_data(valid_split, train_meta):\n",
        "    while True:\n",
        "        for idx in range(0, len(valid_split)):\n",
        "            index1 = train_split[idx]\n",
        "            index2 = index1 + 1\n",
        "\n",
        "            img1 = preprocess_image_from_path(f\"clean_train_frames/F{index1}.jpeg\")\n",
        "            img2 = preprocess_image_from_path(f\"clean_train_frames/F{index2}.jpeg\")\n",
        "\n",
        "            flow = opticalFlow(img1, img2)\n",
        "            flow = flow.reshape(1, *np.shape(flow))\n",
        "\n",
        "            speed = (train_meta.iloc[index1][\"speed\"] + train_meta.iloc[index2][\"speed\"]) / 2\n",
        "\n",
        "            speed = np.array([[speed]])\n",
        "\n",
        "            # yield img1.reshape(1, *np.shape(flow)), speed   # this was original line. makes zero sense.\n",
        "            yield flow, speed"
      ],
      "execution_count": null,
      "outputs": []
    },
    {
      "cell_type": "code",
      "metadata": {
        "id": "XEYekY52nZx5",
        "colab_type": "code",
        "colab": {}
      },
      "source": [
        "N_img_height = 66\n",
        "N_img_width = 220\n",
        "N_img_channels = 3\n",
        "\n",
        "def vg177_insane_triple_max():\n",
        "    inputShape = (N_img_height, N_img_width, N_img_channels)\n",
        "\n",
        "    model = Sequential()\n",
        "    # normalization    \n",
        "    # perform custom normalization before lambda layer in network\n",
        "    model.add(Lambda(lambda x: x/ 127.5 - 1, input_shape = inputShape))\n",
        "\n",
        "    model.add(Convolution2D(24, (5, 5), \n",
        "                            strides=(2,2), \n",
        "                            padding = 'valid',\n",
        "                            kernel_initializer = 'he_normal',\n",
        "                            name = 'conv1'))\n",
        "    \n",
        "    \n",
        "    model.add(ELU())    \n",
        "    model.add(Convolution2D(36, (5, 5), \n",
        "                            strides=(2,2), \n",
        "                            padding = 'valid',\n",
        "                            kernel_initializer = 'he_normal',\n",
        "                            name = 'conv2'))\n",
        "    \n",
        "    model.add(ELU())    \n",
        "    model.add(Convolution2D(48, (5, 5), \n",
        "                            strides=(2,2), \n",
        "                            padding = 'valid',\n",
        "                            kernel_initializer = 'he_normal',\n",
        "                            name = 'conv3'))\n",
        "    model.add(ELU())\n",
        "    model.add(Dropout(0.5))\n",
        "    model.add(Convolution2D(64, (3, 3), \n",
        "                            strides = (1,1), \n",
        "                            padding = 'valid',\n",
        "                            kernel_initializer = 'he_normal',\n",
        "                            name = 'conv4'))\n",
        "    \n",
        "    model.add(ELU())              \n",
        "    model.add(Convolution2D(64, (3, 3), \n",
        "                            strides= (1,1), \n",
        "                            padding = 'valid',\n",
        "                            kernel_initializer = 'he_normal',\n",
        "                            name = 'conv5'))\n",
        "              \n",
        "              \n",
        "    model.add(Flatten(name = 'flatten'))\n",
        "    model.add(ELU())\n",
        "    model.add(Dense(100, kernel_initializer = 'he_normal', name = 'fc1'))\n",
        "    model.add(ELU())\n",
        "    model.add(Dense(50, kernel_initializer = 'he_normal', name = 'fc2'))\n",
        "    model.add(ELU())\n",
        "    model.add(Dense(10, kernel_initializer = 'he_normal', name = 'fc3'))\n",
        "    model.add(ELU())\n",
        "    \n",
        "    # do not put activation at the end because we want to exact output, not a class identifier\n",
        "    model.add(Dense(1, name = 'output', kernel_initializer = 'he_normal'))\n",
        "    \n",
        "    adam = Adam(lr=1e-4, beta_1=0.9, beta_2=0.999, epsilon=1e-08, decay=0.0)\n",
        "    model.compile(optimizer = adam, loss = 'mse')\n",
        "\n",
        "    return model"
      ],
      "execution_count": null,
      "outputs": []
    },
    {
      "cell_type": "code",
      "metadata": {
        "id": "Uac698UMG2b4",
        "colab_type": "code",
        "colab": {}
      },
      "source": [
        "def generate_input_data(train_meta):\n",
        "    DATASET_SIZE = len(train_meta)\n",
        "\n",
        "    images = np.zeros((DATASET_SIZE, 66, 220, 3))\n",
        "    labels = np.zeros(DATASET_SIZE)\n",
        "\n",
        "    for i in tqdm(range(DATASET_SIZE - 1)):\n",
        "        img1 = preprocess_image_from_path(f\"clean_train_frames/F{i}.jpeg\")\n",
        "        img2 = preprocess_image_from_path(f\"clean_train_frames/F{i + 1}.jpeg\")\n",
        "\n",
        "        bright_factor = 0.2 * np.random.uniform()\n",
        "\n",
        "        img1 = blur_image(adjust_brightness(img1, bright_factor))\n",
        "        img2 = blur_image(adjust_brightness(img2, bright_factor))\n",
        "\n",
        "        flow = opticalFlow(img1, img2)\n",
        "\n",
        "        speed = (train_meta.iloc[i][\"speed\"] + train_meta.iloc[i + 1][\"speed\"]) / 2\n",
        "\n",
        "        images[i] = flow\n",
        "        labels[i] = speed\n",
        "\n",
        "    return images, labels\n",
        "\n",
        "\n",
        "\n"
      ],
      "execution_count": null,
      "outputs": []
    },
    {
      "cell_type": "code",
      "metadata": {
        "id": "t8G5xRkg1VKQ",
        "colab_type": "code",
        "colab": {}
      },
      "source": [
        "val_size = len(valid_split)\n",
        "valid_generator = generate_validation_data(valid_split, train_meta)\n",
        "BATCH = 10\n",
        "print('val_size: ', val_size)\n",
        "\n",
        "filepath = 'asdf.h5'\n",
        "earlyStopping = EarlyStopping(monitor='val_loss', \n",
        "                              patience=1, \n",
        "                              verbose=1, \n",
        "                              min_delta = 0.23,\n",
        "                              mode='min',)\n",
        "modelCheckpoint = ModelCheckpoint(filepath, \n",
        "                                  monitor = 'val_loss', \n",
        "                                  save_best_only = True, \n",
        "                                  mode = 'min', \n",
        "                                  verbose = 1,\n",
        "                                 save_weights_only = True)\n",
        "callbacks_list = [modelCheckpoint]\n",
        "\n",
        "model = vg177_insane_triple_max()\n",
        "train_size = len(train_split)\n",
        "train_generator = generate_training_data(train_split, train_meta, BATCH)\n",
        "\n",
        "history = model.fit_generator(\n",
        "        generator = train_generator,\n",
        "        steps_per_epoch = 400, \n",
        "        epochs = 85,\n",
        "        callbacks = callbacks_list,\n",
        "        verbose = 1,\n",
        "        validation_data = valid_generator,\n",
        "        validation_steps = val_size)\n",
        "\n",
        "print(history)\n",
        "\n",
        "'''\n",
        "\n",
        "x, y = generate_input_data(train_meta)\n",
        "\n",
        "\n",
        "history = model.fit(\n",
        "        x = x,\n",
        "        y = y,\n",
        "        batch_size = BATCH,\n",
        "        epochs = 85,\n",
        "        callbacks = callbacks_list,\n",
        "        verbose = 1,\n",
        "        shuffle = True,\n",
        "        validation_split = 0.2,\n",
        ")\n",
        "'''"
      ],
      "execution_count": null,
      "outputs": []
    },
    {
      "cell_type": "code",
      "metadata": {
        "id": "TW9_pX6F-PGT",
        "colab_type": "code",
        "colab": {}
      },
      "source": [
        "!pip freeze | grep tensorflow"
      ],
      "execution_count": null,
      "outputs": []
    },
    {
      "cell_type": "markdown",
      "metadata": {
        "id": "L383iaPd5X35",
        "colab_type": "text"
      },
      "source": [
        "# Inference"
      ]
    },
    {
      "cell_type": "code",
      "metadata": {
        "id": "1NYymXZM5aP4",
        "colab_type": "code",
        "colab": {}
      },
      "source": [
        "model = vg177_insane_triple_max()\n",
        "model.load_weights('alan-sat-bright-flip.h5')"
      ],
      "execution_count": null,
      "outputs": []
    },
    {
      "cell_type": "code",
      "metadata": {
        "id": "puWaksY7Xwll",
        "colab_type": "code",
        "colab": {}
      },
      "source": [
        "test_meta = pd.read_csv(\"train.csv\")"
      ],
      "execution_count": null,
      "outputs": []
    },
    {
      "cell_type": "code",
      "metadata": {
        "id": "4hqh1CBj7C-U",
        "colab_type": "code",
        "colab": {}
      },
      "source": [
        "preds = []\n",
        "actuals = []\n",
        "\n",
        "for idx in range(1000, len(test_meta), 200):\n",
        "    index1 = idx\n",
        "    index2 = index1 + 1\n",
        "\n",
        "    img1 = preprocess_image_from_path(f\"clean_train_frames/F{index1}.jpeg\")\n",
        "    img2 = preprocess_image_from_path(f\"clean_train_frames/F{index2}.jpeg\")\n",
        "\n",
        "    flow = opticalFlow(img1, img2)\n",
        "    flow = flow.reshape(1, *np.shape(flow))\n",
        "\n",
        "    actual = (test_meta.iloc[index1][\"speed\"] + test_meta.iloc[index2][\"speed\"]) / 2\n",
        "\n",
        "    pred = model.predict(flow, batch_size=1)\n",
        "    print('Predicted: {}\\t\\tActual: {}'.format(pred[0][0], actual))\n",
        "    \n",
        "    preds.append(pred[0][0])\n",
        "    actuals.append(actual)\n"
      ],
      "execution_count": null,
      "outputs": []
    },
    {
      "cell_type": "code",
      "metadata": {
        "id": "6z0I6ILb9Shi",
        "colab_type": "code",
        "colab": {}
      },
      "source": [
        "plt.figure(figsize=(16,8))\n",
        "plt.plot(preds, marker='o', markerfacecolor='blue')\n",
        "plt.plot(actuals, marker='x', color='olive', linewidth=2)\n",
        "plt.show()"
      ],
      "execution_count": null,
      "outputs": []
    },
    {
      "cell_type": "code",
      "metadata": {
        "id": "GZDWZoep-Btw",
        "colab_type": "code",
        "colab": {
          "base_uri": "https://localhost:8080/",
          "height": 34
        },
        "outputId": "e024a99f-3992-4ddc-cba7-77402e49f144"
      },
      "source": [
        "preds = []\n",
        "\n",
        "prev = preprocess_image_from_path(f\"clean_test_frames/F{0}.jpeg\")\n",
        "for idx in tqdm(range(1, 10798)):\n",
        "    curr = preprocess_image_from_path(f\"clean_test_frames/F{idx}.jpeg\")\n",
        "\n",
        "    flow = opticalFlow(prev, curr)\n",
        "    flow = flow.reshape(1, *np.shape(flow))\n",
        "\n",
        "    pred = model.predict(flow, batch_size=1)\n",
        "    \n",
        "    preds.append(pred[0][0])\n",
        "    prev = curr"
      ],
      "execution_count": null,
      "outputs": [
        {
          "output_type": "stream",
          "text": [
            "100%|██████████| 10797/10797 [57:12<00:00,  3.59it/s]\n"
          ],
          "name": "stderr"
        }
      ]
    },
    {
      "cell_type": "code",
      "metadata": {
        "id": "FMtxF-Neso-M",
        "colab_type": "code",
        "colab": {}
      },
      "source": [
        "np.savetxt('test.txt', preds)"
      ],
      "execution_count": null,
      "outputs": []
    },
    {
      "cell_type": "code",
      "metadata": {
        "id": "I7eplm5fspqo",
        "colab_type": "code",
        "colab": {}
      },
      "source": [
        "test = np.loadtxt('testa.txt')"
      ],
      "execution_count": null,
      "outputs": []
    }
  ]
}